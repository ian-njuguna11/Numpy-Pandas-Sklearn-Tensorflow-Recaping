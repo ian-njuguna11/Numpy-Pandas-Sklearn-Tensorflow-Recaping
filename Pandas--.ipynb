{
 "cells": [
  {
   "cell_type": "markdown",
   "id": "844f1666",
   "metadata": {},
   "source": [
    "Pandas is a data manipulation and analysis library for Python. It provides powerful data structures for efficiently working with structured data.\n",
    "\n",
    "1. Installation:\n",
    "You can install Pandas using the following command:"
   ]
  },
  {
   "cell_type": "code",
   "execution_count": 1,
   "id": "f3aa55b4",
   "metadata": {},
   "outputs": [
    {
     "name": "stdout",
     "output_type": "stream",
     "text": [
      "Requirement already satisfied: pandas in c:\\users\\omen 16\\appdata\\local\\programs\\python\\python310\\lib\\site-packages (2.0.3)\n",
      "Requirement already satisfied: python-dateutil>=2.8.2 in c:\\users\\omen 16\\appdata\\local\\programs\\python\\python310\\lib\\site-packages (from pandas) (2.8.2)\n",
      "Requirement already satisfied: pytz>=2020.1 in c:\\users\\omen 16\\appdata\\local\\programs\\python\\python310\\lib\\site-packages (from pandas) (2023.3)\n",
      "Requirement already satisfied: tzdata>=2022.1 in c:\\users\\omen 16\\appdata\\local\\programs\\python\\python310\\lib\\site-packages (from pandas) (2023.3)\n",
      "Requirement already satisfied: numpy>=1.21.0 in c:\\users\\omen 16\\appdata\\local\\programs\\python\\python310\\lib\\site-packages (from pandas) (1.25.1)\n",
      "Requirement already satisfied: six>=1.5 in c:\\users\\omen 16\\appdata\\local\\programs\\python\\python310\\lib\\site-packages (from python-dateutil>=2.8.2->pandas) (1.16.0)\n"
     ]
    }
   ],
   "source": [
    "!pip install pandas"
   ]
  },
  {
   "cell_type": "markdown",
   "id": "4112b71c",
   "metadata": {},
   "source": [
    "2. Data Structures:\n",
    "Pandas has two primary data structures: Series (1D) and DataFrame (2D)."
   ]
  },
  {
   "cell_type": "code",
   "execution_count": 5,
   "id": "79e755f2",
   "metadata": {},
   "outputs": [
    {
     "data": {
      "text/html": [
       "<div>\n",
       "<style scoped>\n",
       "    .dataframe tbody tr th:only-of-type {\n",
       "        vertical-align: middle;\n",
       "    }\n",
       "\n",
       "    .dataframe tbody tr th {\n",
       "        vertical-align: top;\n",
       "    }\n",
       "\n",
       "    .dataframe thead th {\n",
       "        text-align: right;\n",
       "    }\n",
       "</style>\n",
       "<table border=\"1\" class=\"dataframe\">\n",
       "  <thead>\n",
       "    <tr style=\"text-align: right;\">\n",
       "      <th></th>\n",
       "      <th>Name</th>\n",
       "      <th>Age</th>\n",
       "    </tr>\n",
       "  </thead>\n",
       "  <tbody>\n",
       "    <tr>\n",
       "      <th>0</th>\n",
       "      <td>Alice</td>\n",
       "      <td>10</td>\n",
       "    </tr>\n",
       "    <tr>\n",
       "      <th>1</th>\n",
       "      <td>Bob</td>\n",
       "      <td>20</td>\n",
       "    </tr>\n",
       "    <tr>\n",
       "      <th>2</th>\n",
       "      <td>Charlie</td>\n",
       "      <td>30</td>\n",
       "    </tr>\n",
       "  </tbody>\n",
       "</table>\n",
       "</div>"
      ],
      "text/plain": [
       "      Name  Age\n",
       "0    Alice   10\n",
       "1      Bob   20\n",
       "2  Charlie   30"
      ]
     },
     "execution_count": 5,
     "metadata": {},
     "output_type": "execute_result"
    }
   ],
   "source": [
    "import pandas as pd\n",
    "\n",
    "# Creating a Series\n",
    "series = pd.Series([10,20,30,40,50])\n",
    "\n",
    "# DataFram --> from a dictionary\n",
    "\n",
    "data = {\n",
    "    'Name':  ['Alice', 'Bob', 'Charlie'],\n",
    "    'Age': [10,20,30]\n",
    "}\n",
    "\n",
    "df = pd.DataFrame(data)\n",
    "df"
   ]
  },
  {
   "cell_type": "markdown",
   "id": "82614835",
   "metadata": {},
   "source": [
    "3. Data Manipulation:"
   ]
  },
  {
   "cell_type": "code",
   "execution_count": 12,
   "id": "4500b227",
   "metadata": {},
   "outputs": [
    {
     "data": {
      "text/html": [
       "<div>\n",
       "<style scoped>\n",
       "    .dataframe tbody tr th:only-of-type {\n",
       "        vertical-align: middle;\n",
       "    }\n",
       "\n",
       "    .dataframe tbody tr th {\n",
       "        vertical-align: top;\n",
       "    }\n",
       "\n",
       "    .dataframe thead th {\n",
       "        text-align: right;\n",
       "    }\n",
       "</style>\n",
       "<table border=\"1\" class=\"dataframe\">\n",
       "  <thead>\n",
       "    <tr style=\"text-align: right;\">\n",
       "      <th></th>\n",
       "      <th>Name</th>\n",
       "      <th>Age</th>\n",
       "      <th>Gender</th>\n",
       "      <th>AgeSquared</th>\n",
       "    </tr>\n",
       "  </thead>\n",
       "  <tbody>\n",
       "    <tr>\n",
       "      <th>0</th>\n",
       "      <td>Alice</td>\n",
       "      <td>10</td>\n",
       "      <td>Female</td>\n",
       "      <td>100</td>\n",
       "    </tr>\n",
       "    <tr>\n",
       "      <th>1</th>\n",
       "      <td>Bob</td>\n",
       "      <td>20</td>\n",
       "      <td>Male</td>\n",
       "      <td>400</td>\n",
       "    </tr>\n",
       "    <tr>\n",
       "      <th>2</th>\n",
       "      <td>Charlie</td>\n",
       "      <td>30</td>\n",
       "      <td>Male</td>\n",
       "      <td>900</td>\n",
       "    </tr>\n",
       "  </tbody>\n",
       "</table>\n",
       "</div>"
      ],
      "text/plain": [
       "      Name  Age  Gender  AgeSquared\n",
       "0    Alice   10  Female         100\n",
       "1      Bob   20    Male         400\n",
       "2  Charlie   30    Male         900"
      ]
     },
     "execution_count": 12,
     "metadata": {},
     "output_type": "execute_result"
    }
   ],
   "source": [
    "# Accessing columns\n",
    "ages = df['Age']\n",
    "\n",
    "# Filtering rows\n",
    "young_people = df[df['Age'] < 30]\n",
    "young_people = df[ages < 30]\n",
    "\n",
    "\n",
    "#adding columns \n",
    "df['Gender'] = ['Female', 'Male', 'Male']\n",
    "\n",
    "# Applying functions\n",
    "df['AgeSquared'] = df['Age'].apply(lambda x: x ** 2 )\n",
    "df"
   ]
  },
  {
   "cell_type": "markdown",
   "id": "3e95ee84",
   "metadata": {},
   "source": [
    "4. Reading and Writing Data:"
   ]
  },
  {
   "cell_type": "code",
   "execution_count": 17,
   "id": "dd87a6d8",
   "metadata": {},
   "outputs": [],
   "source": [
    "# Reading data from CSV files\n",
    "csv_data = pd.read_csv('carprices.csv')\n",
    "\n",
    "# writing data to a CSV file\n",
    "df.to_csv('out_put.csv', index=False)\n"
   ]
  },
  {
   "cell_type": "markdown",
   "id": "f714f6d8",
   "metadata": {},
   "source": [
    "5. Data Aggregation"
   ]
  },
  {
   "cell_type": "code",
   "execution_count": 35,
   "id": "22e0c832",
   "metadata": {},
   "outputs": [
    {
     "name": "stdout",
     "output_type": "stream",
     "text": [
      "['Female', 'Male']\n",
      "\n",
      "\n",
      "\n",
      "[    Name  Age  Gender  AgeSquared\n",
      "0  Alice   10  Female         100,       Name  Age Gender  AgeSquared\n",
      "1      Bob   20   Male         400\n",
      "2  Charlie   30   Male         900]\n"
     ]
    }
   ],
   "source": [
    "group_name = [x for x,y in df.groupby('Gender')]\n",
    "group_data = [y for x,y in df.groupby('Gender')]\n",
    "print(group_name)\n",
    "print('\\n\\n')\n",
    "print(group_data)\n",
    "# grouped = df.groupby('Gender')['Age'].mean()\n",
    "# print(grouped)"
   ]
  },
  {
   "cell_type": "code",
   "execution_count": 37,
   "id": "c7a3b5c5",
   "metadata": {},
   "outputs": [
    {
     "name": "stdout",
     "output_type": "stream",
     "text": [
      "Group: Female\n",
      "    Name  Age  Gender  AgeSquared\n",
      "0  Alice   10  Female         100\n",
      "\n",
      "Group: Male\n",
      "      Name  Age Gender  AgeSquared\n",
      "1      Bob   20   Male         400\n",
      "2  Charlie   30   Male         900\n",
      "\n"
     ]
    }
   ],
   "source": [
    "# Iterating through the groups and printing each group\n",
    "for group_name, group_data in df.groupby('Gender'):\n",
    "    print(f\"Group: {group_name}\")\n",
    "    print(group_data)\n",
    "    print()  # Empty line for separation"
   ]
  },
  {
   "cell_type": "markdown",
   "id": "88f57bd6",
   "metadata": {},
   "source": [
    "Bonus: \n",
    "    1. Zip Concept\n",
    "    2. Spread Operator \n",
    "    3. List Comprehension"
   ]
  },
  {
   "cell_type": "markdown",
   "id": "7f0692bd",
   "metadata": {},
   "source": [
    "### 1. Zip Concept\n",
    "\n",
    "The zip function generates an iterator that yields tuples containing elements from the input iterables.\n",
    "It stops creating tuples when the shortest input iterable is exhausted.\n",
    "zip(iterable1, iterable2, ...)\n"
   ]
  },
  {
   "cell_type": "code",
   "execution_count": 40,
   "id": "264fefcd",
   "metadata": {},
   "outputs": [
    {
     "name": "stdout",
     "output_type": "stream",
     "text": [
      "Alice is 25 years old\n",
      "Bob is 30 years old\n",
      "Charlie is 28 years old\n"
     ]
    }
   ],
   "source": [
    "# 1 - Combining Lists:\n",
    "\n",
    "names = ['Alice', 'Bob', 'Charlie']\n",
    "ages = [25, 30, 28]\n",
    "\n",
    "for name, age in zip(names, ages):\n",
    "    print(f\"{name} is {age} years old\")\n",
    "\n"
   ]
  },
  {
   "cell_type": "code",
   "execution_count": 41,
   "id": "7c65f42a",
   "metadata": {},
   "outputs": [
    {
     "name": "stdout",
     "output_type": "stream",
     "text": [
      "Alice scored 95\n",
      "Bob scored 82\n"
     ]
    }
   ],
   "source": [
    "#  Combining Lists of Different Lengths:\n",
    "\n",
    "names = ['Alice', 'Bob', 'Charlie']\n",
    "scores = [95, 82]\n",
    "\n",
    "for name, score in zip(names, scores):\n",
    "    print(f\"{name} scored {score}\")\n"
   ]
  },
  {
   "cell_type": "code",
   "execution_count": 42,
   "id": "0af2f42f",
   "metadata": {},
   "outputs": [
    {
     "name": "stdout",
     "output_type": "stream",
     "text": [
      "(1, 'a', 10)\n",
      "(2, 'b', 20)\n",
      "(3, 'c', 30)\n"
     ]
    }
   ],
   "source": [
    "# you can n number lists \n",
    "list1 = [1, 2, 3]\n",
    "list2 = ['a', 'b', 'c']\n",
    "list3 = [10, 20, 30]\n",
    "\n",
    "combined = zip(list1, list2, list3)\n",
    "\n",
    "for item in combined:\n",
    "    print(item)\n"
   ]
  },
  {
   "cell_type": "markdown",
   "id": "ac75b6c9",
   "metadata": {},
   "source": [
    "### 2. Spread Operator\n",
    "You can use the * operator to unpack elements \n",
    "from a list (or other iterable) and pass them \n",
    "as separate arguments to a function."
   ]
  },
  {
   "cell_type": "code",
   "execution_count": null,
   "id": "01b45bd7",
   "metadata": {},
   "outputs": [],
   "source": []
  }
 ],
 "metadata": {
  "kernelspec": {
   "display_name": "Python 3 (ipykernel)",
   "language": "python",
   "name": "python3"
  },
  "language_info": {
   "codemirror_mode": {
    "name": "ipython",
    "version": 3
   },
   "file_extension": ".py",
   "mimetype": "text/x-python",
   "name": "python",
   "nbconvert_exporter": "python",
   "pygments_lexer": "ipython3",
   "version": "3.10.10"
  }
 },
 "nbformat": 4,
 "nbformat_minor": 5
}
