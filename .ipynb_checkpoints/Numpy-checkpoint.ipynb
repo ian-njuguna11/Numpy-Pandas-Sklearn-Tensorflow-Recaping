{
 "cells": [
  {
   "cell_type": "markdown",
   "id": "acc9d178",
   "metadata": {},
   "source": [
    "NumPy is a fundamental package for scientific computing in Python. It provides support for large, multi-dimensional arrays and matrices, as well as a wide range of mathematical functions to operate on these arrays.\n",
    "\n",
    "1. Installation:\n",
    "You can install NumPy using the following command:"
   ]
  },
  {
   "cell_type": "code",
   "execution_count": 1,
   "id": "f8a48e2e",
   "metadata": {},
   "outputs": [
    {
     "name": "stdout",
     "output_type": "stream",
     "text": [
      "Requirement already satisfied: numpy in c:\\users\\omen 16\\appdata\\local\\programs\\python\\python310\\lib\\site-packages (1.25.1)\n"
     ]
    }
   ],
   "source": [
    "!pip install numpy"
   ]
  },
  {
   "cell_type": "markdown",
   "id": "9b856509",
   "metadata": {},
   "source": [
    "2. Creating Arrays"
   ]
  },
  {
   "cell_type": "code",
   "execution_count": 5,
   "id": "2ff7ac4d",
   "metadata": {},
   "outputs": [
    {
     "name": "stdout",
     "output_type": "stream",
     "text": [
      "Creating a 1d array\n",
      "[1 2 3 4 5]\n",
      "Creating a 2d array\n",
      "[[ 1  2  3  4  5]\n",
      " [ 6  7  8  9 10]]\n"
     ]
    }
   ],
   "source": [
    "import numpy as np\n",
    "\n",
    "# Creating a 1d array\n",
    "arr1 = np.array([1,2,3,4,5])\n",
    "print(\"Creating a 1d array\")\n",
    "print(arr1)\n",
    "\n",
    "#creating 2d array\n",
    "arr2 = np.array([[1,2,3,4,5], [6,7,8,9,10]])\n",
    "\n",
    "print(\"Creating a 2d array\")\n",
    "print(arr2)"
   ]
  },
  {
   "cell_type": "markdown",
   "id": "cf183ad5",
   "metadata": {},
   "source": [
    "5. Basic Operations"
   ]
  },
  {
   "cell_type": "code",
   "execution_count": 21,
   "id": "74d93399",
   "metadata": {},
   "outputs": [
    {
     "name": "stdout",
     "output_type": "stream",
     "text": [
      "[[ 1  2  3  4  5]\n",
      " [ 6  7  8  9 10]]\n"
     ]
    },
    {
     "data": {
      "text/plain": [
       "array([[ 1,  6],\n",
       "       [ 2,  7],\n",
       "       [ 3,  8],\n",
       "       [ 4,  9],\n",
       "       [ 5, 10]])"
      ]
     },
     "execution_count": 21,
     "metadata": {},
     "output_type": "execute_result"
    }
   ],
   "source": [
    "#Element-wise operations\n",
    "\n",
    "result = arr1 + 2\n",
    "result = arr1 * 3\n",
    "result = arr1 + arr2\n",
    "\n",
    "# array manupilation \n",
    "reshaped = arr2.reshape(2,5)\n",
    "print(reshaped)\n",
    "transposed = arr2.T\n",
    "transposed\n"
   ]
  },
  {
   "cell_type": "markdown",
   "id": "25968bcf",
   "metadata": {},
   "source": [
    "4. Indexing and Slicing and conditional rendering:"
   ]
  },
  {
   "cell_type": "code",
   "execution_count": 44,
   "id": "aa6c8f08",
   "metadata": {},
   "outputs": [
    {
     "data": {
      "text/plain": [
       "array([3, 4, 5])"
      ]
     },
     "execution_count": 44,
     "metadata": {},
     "output_type": "execute_result"
    }
   ],
   "source": [
    "arr1[2] # Accessing an element\n",
    "\n",
    "2d_subarr = arr2[1, 0:] # slicing Subarray\n",
    "            arr2[1,::]\n",
    "    \n",
    "1d_subarr = arr1[0:5:2]\n",
    "\n",
    "#conditional rendering\n",
    "filtered = arr1[arr1 > 2]"
   ]
  },
  {
   "cell_type": "markdown",
   "id": "a662de6a",
   "metadata": {},
   "source": [
    "5 Maths Functions:"
   ]
  },
  {
   "cell_type": "code",
   "execution_count": 51,
   "id": "9681e3ab",
   "metadata": {},
   "outputs": [
    {
     "data": {
      "text/plain": [
       "5"
      ]
     },
     "execution_count": 51,
     "metadata": {},
     "output_type": "execute_result"
    }
   ],
   "source": [
    "mean = np.mean(arr1)\n",
    "std_dev = np.std(arr2)\n",
    "max_val = np.max(arr1)\n",
    "max_val "
   ]
  },
  {
   "cell_type": "code",
   "execution_count": 59,
   "id": "46ab2d00",
   "metadata": {},
   "outputs": [
    {
     "data": {
      "text/plain": [
       "array([ 6,  7,  8,  9, 10])"
      ]
     },
     "execution_count": 59,
     "metadata": {},
     "output_type": "execute_result"
    }
   ],
   "source": []
  },
  {
   "cell_type": "code",
   "execution_count": null,
   "id": "02f1cf8f",
   "metadata": {},
   "outputs": [],
   "source": []
  }
 ],
 "metadata": {
  "kernelspec": {
   "display_name": "Python 3 (ipykernel)",
   "language": "python",
   "name": "python3"
  },
  "language_info": {
   "codemirror_mode": {
    "name": "ipython",
    "version": 3
   },
   "file_extension": ".py",
   "mimetype": "text/x-python",
   "name": "python",
   "nbconvert_exporter": "python",
   "pygments_lexer": "ipython3",
   "version": "3.10.10"
  }
 },
 "nbformat": 4,
 "nbformat_minor": 5
}
